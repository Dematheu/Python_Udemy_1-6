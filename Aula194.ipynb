{
 "cells": [
  {
   "cell_type": "markdown",
   "id": "0ce8310c",
   "metadata": {},
   "source": [
    "# Esse é o título.\n",
    "Essa linha cria uma variável `a`."
   ]
  },
  {
   "cell_type": "markdown",
   "id": "0b8e5900",
   "metadata": {},
   "source": [
    "Essa linha tem o valor da variaval `a` em dobro."
   ]
  },
  {
   "cell_type": "code",
   "execution_count": 7,
   "id": "9401acc8",
   "metadata": {},
   "outputs": [
    {
     "data": {
      "text/plain": [
       "2"
      ]
     },
     "execution_count": 7,
     "metadata": {},
     "output_type": "execute_result"
    }
   ],
   "source": [
    "a = 2\n",
    "a"
   ]
  },
  {
   "cell_type": "code",
   "execution_count": 8,
   "id": "85cc6f6f",
   "metadata": {},
   "outputs": [
    {
     "data": {
      "text/plain": [
       "4"
      ]
     },
     "execution_count": 8,
     "metadata": {},
     "output_type": "execute_result"
    }
   ],
   "source": [
    "b = a * 2\n",
    "b"
   ]
  },
  {
   "cell_type": "markdown",
   "id": "b3e24fc2",
   "metadata": {},
   "source": [
    "Essa linha mostra o valor de `a`+ `b`"
   ]
  },
  {
   "cell_type": "code",
   "execution_count": 9,
   "id": "9b9d89dc",
   "metadata": {},
   "outputs": [
    {
     "data": {
      "text/plain": [
       "6"
      ]
     },
     "execution_count": 9,
     "metadata": {},
     "output_type": "execute_result"
    }
   ],
   "source": [
    "a + b"
   ]
  },
  {
   "cell_type": "code",
   "execution_count": null,
   "id": "41ebbe39",
   "metadata": {},
   "outputs": [],
   "source": []
  }
 ],
 "metadata": {
  "kernelspec": {
   "display_name": "Python 3 (ipykernel)",
   "language": "python",
   "name": "python3"
  },
  "language_info": {
   "codemirror_mode": {
    "name": "ipython",
    "version": 3
   },
   "file_extension": ".py",
   "mimetype": "text/x-python",
   "name": "python",
   "nbconvert_exporter": "python",
   "pygments_lexer": "ipython3",
   "version": "3.11.2"
  }
 },
 "nbformat": 4,
 "nbformat_minor": 5
}
